{
 "cells": [
  {
   "cell_type": "markdown",
   "id": "72eeff32",
   "metadata": {},
   "source": [
    "# 🔹 Sabriya Sowers' Titanic Dataset Analysis 🔹\n",
    "\n",
    "**Author:** Sabriya Sowers  \n",
    "**Date:** October 30, 2025  "
   ]
  },
  {
   "cell_type": "markdown",
   "id": "ba7ed87b",
   "metadata": {},
   "source": [
    "** Introduction a brief introduction that describes the problem and the dataset."
   ]
  },
  {
   "cell_type": "code",
   "execution_count": 2,
   "id": "1104f206",
   "metadata": {},
   "outputs": [],
   "source": [
    "# imports all at the top\n",
    "import matplotlib.pyplot as plt\n",
    "import numpy as np\n",
    "import pandas as pd\n",
    "import seaborn as sns\n",
    "from sklearn.linear_model import LinearRegression\n",
    "from sklearn.metrics import mean_absolute_error, mean_squared_error, r2_score\n",
    "from sklearn.model_selection import train_test_split\n",
    "\n",
    "# Load dataset from seaborn\n",
    "titanic = sns.load_dataset(\"titanic\")"
   ]
  },
  {
   "cell_type": "code",
   "execution_count": null,
   "id": "798ab790",
   "metadata": {},
   "outputs": [
    {
     "name": "stdout",
     "output_type": "stream",
     "text": [
      "<class 'pandas.core.frame.DataFrame'>\n",
      "RangeIndex: 891 entries, 0 to 890\n",
      "Data columns (total 15 columns):\n",
      " #   Column       Non-Null Count  Dtype   \n",
      "---  ------       --------------  -----   \n",
      " 0   survived     891 non-null    int64   \n",
      " 1   pclass       891 non-null    int64   \n",
      " 2   sex          891 non-null    object  \n",
      " 3   age          714 non-null    float64 \n",
      " 4   sibsp        891 non-null    int64   \n",
      " 5   parch        891 non-null    int64   \n",
      " 6   fare         891 non-null    float64 \n",
      " 7   embarked     889 non-null    object  \n",
      " 8   class        891 non-null    category\n",
      " 9   who          891 non-null    object  \n",
      " 10  adult_male   891 non-null    bool    \n",
      " 11  deck         203 non-null    category\n",
      " 12  embark_town  889 non-null    object  \n",
      " 13  alive        891 non-null    object  \n",
      " 14  alone        891 non-null    bool    \n",
      "dtypes: bool(2), category(2), float64(2), int64(4), object(5)\n",
      "memory usage: 80.7+ KB\n",
      "   survived  pclass     sex   age  sibsp  parch     fare embarked   class  \\\n",
      "0         0       3    male  22.0      1      0   7.2500        S   Third   \n",
      "1         1       1  female  38.0      1      0  71.2833        C   First   \n",
      "2         1       3  female  26.0      0      0   7.9250        S   Third   \n",
      "3         1       1  female  35.0      1      0  53.1000        S   First   \n",
      "4         0       3    male  35.0      0      0   8.0500        S   Third   \n",
      "5         0       3    male   NaN      0      0   8.4583        Q   Third   \n",
      "6         0       1    male  54.0      0      0  51.8625        S   First   \n",
      "7         0       3    male   2.0      3      1  21.0750        S   Third   \n",
      "8         1       3  female  27.0      0      2  11.1333        S   Third   \n",
      "9         1       2  female  14.0      1      0  30.0708        C  Second   \n",
      "\n",
      "     who  adult_male deck  embark_town alive  alone  \n",
      "0    man        True  NaN  Southampton    no  False  \n",
      "1  woman       False    C    Cherbourg   yes  False  \n",
      "2  woman       False  NaN  Southampton   yes   True  \n",
      "3  woman       False    C  Southampton   yes  False  \n",
      "4    man        True  NaN  Southampton    no   True  \n",
      "5    man        True  NaN   Queenstown    no   True  \n",
      "6    man        True    E  Southampton    no   True  \n",
      "7  child       False  NaN  Southampton    no  False  \n",
      "8  woman       False  NaN  Southampton   yes  False  \n",
      "9  child       False  NaN    Cherbourg   yes  False  \n",
      "         survived      pclass         age       sibsp       parch        fare\n",
      "count  891.000000  891.000000  714.000000  891.000000  891.000000  891.000000\n",
      "mean     0.383838    2.308642   29.699118    0.523008    0.381594   32.204208\n",
      "std      0.486592    0.836071   14.526497    1.102743    0.806057   49.693429\n",
      "min      0.000000    1.000000    0.420000    0.000000    0.000000    0.000000\n",
      "25%      0.000000    2.000000   20.125000    0.000000    0.000000    7.910400\n",
      "50%      0.000000    3.000000   28.000000    0.000000    0.000000   14.454200\n",
      "75%      1.000000    3.000000   38.000000    1.000000    0.000000   31.000000\n",
      "max      1.000000    3.000000   80.000000    8.000000    6.000000  512.329200\n"
     ]
    }
   ],
   "source": [
    "# Displays basic dataset info (e.g., total rows, features)\n",
    "titanic.info()\n",
    "\n",
    "# Displays the first 10 rows of dataset\n",
    "print(titanic.head(10))\n",
    "\n",
    "# Shows me how many missing (null) values there are in each column of the Titanic dataset\n",
    "titanic.isnull().sum()\n",
    "\n",
    "# Displays summary statistics\n",
    "print(titanic.describe())"
   ]
  },
  {
   "cell_type": "code",
   "execution_count": 4,
   "id": "72624dc8",
   "metadata": {},
   "outputs": [
    {
     "name": "stdout",
     "output_type": "stream",
     "text": [
      "            survived    pclass       age     sibsp     parch      fare  \\\n",
      "survived    1.000000 -0.338481 -0.077221 -0.035322  0.081629  0.257307   \n",
      "pclass     -0.338481  1.000000 -0.369226  0.083081  0.018443 -0.549500   \n",
      "age        -0.077221 -0.369226  1.000000 -0.308247 -0.189119  0.096067   \n",
      "sibsp      -0.035322  0.083081 -0.308247  1.000000  0.414838  0.159651   \n",
      "parch       0.081629  0.018443 -0.189119  0.414838  1.000000  0.216225   \n",
      "fare        0.257307 -0.549500  0.096067  0.159651  0.216225  1.000000   \n",
      "adult_male -0.557080  0.094035  0.280328 -0.253586 -0.349943 -0.182024   \n",
      "alone      -0.203367  0.135207  0.198270 -0.584471 -0.583398 -0.271832   \n",
      "\n",
      "            adult_male     alone  \n",
      "survived     -0.557080 -0.203367  \n",
      "pclass        0.094035  0.135207  \n",
      "age           0.280328  0.198270  \n",
      "sibsp        -0.253586 -0.584471  \n",
      "parch        -0.349943 -0.583398  \n",
      "fare         -0.182024 -0.271832  \n",
      "adult_male    1.000000  0.404744  \n",
      "alone         0.404744  1.000000  \n"
     ]
    }
   ],
   "source": [
    "# Check for correlations\n",
    "print(titanic.corr(numeric_only=True))"
   ]
  }
 ],
 "metadata": {
  "kernelspec": {
   "display_name": "applied-ml-sowers",
   "language": "python",
   "name": "python3"
  },
  "language_info": {
   "codemirror_mode": {
    "name": "ipython",
    "version": 3
   },
   "file_extension": ".py",
   "mimetype": "text/x-python",
   "name": "python",
   "nbconvert_exporter": "python",
   "pygments_lexer": "ipython3",
   "version": "3.12.12"
  }
 },
 "nbformat": 4,
 "nbformat_minor": 5
}
